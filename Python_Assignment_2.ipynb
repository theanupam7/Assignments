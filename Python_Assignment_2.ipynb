{
  "nbformat": 4,
  "nbformat_minor": 0,
  "metadata": {
    "colab": {
      "name": "Python Assignment 2.ipynb",
      "provenance": []
    },
    "kernelspec": {
      "name": "python3",
      "display_name": "Python 3"
    }
  },
  "cells": [
    {
      "cell_type": "markdown",
      "metadata": {
        "id": "oOnHjVmY14w9"
      },
      "source": [
        "Example 1. Created the below pattern using nested for loop in Python.\n"
      ]
    },
    {
      "cell_type": "code",
      "metadata": {
        "id": "IQ9bMSwjzLqv",
        "outputId": "07255032-bc9f-4504-9868-2d3689eb5f83",
        "colab": {
          "base_uri": "https://localhost:8080/",
          "height": 323
        }
      },
      "source": [
        "def pattern(n) :\n",
        "  for row in range(0, n) :\n",
        "    for column in range(0,row+1) :\n",
        "      print(\"* \", end = \"\")\n",
        "    print(\"\\n\")\n",
        "  for i in range(n-1, 0, -1):\n",
        "    for j in range(0, i) :\n",
        "      print(\"* \",end =\"\")\n",
        "    print(\"\\n\")\n",
        "\n",
        "pattern(5)"
      ],
      "execution_count": 1,
      "outputs": [
        {
          "output_type": "stream",
          "text": [
            "* \n",
            "\n",
            "* * \n",
            "\n",
            "* * * \n",
            "\n",
            "* * * * \n",
            "\n",
            "* * * * * \n",
            "\n",
            "* * * * \n",
            "\n",
            "* * * \n",
            "\n",
            "* * \n",
            "\n",
            "* \n",
            "\n"
          ],
          "name": "stdout"
        }
      ]
    },
    {
      "cell_type": "markdown",
      "metadata": {
        "id": "wfj6SShn10mV"
      },
      "source": [
        "Example 2. Write a Python program to reverse a word after accepting the input from the user.\n"
      ]
    },
    {
      "cell_type": "code",
      "metadata": {
        "id": "6pQY59ej0S7I",
        "outputId": "87cf1498-7493-4136-d068-b7f9547e9edf",
        "colab": {
          "base_uri": "https://localhost:8080/",
          "height": 68
        }
      },
      "source": [
        "word = input(\"Please enter word to reverse : \")\n",
        "\n",
        "for char in range(len(word)-1 , -1 , -1) :      # Traversing in decending order\n",
        "  print(word[char], end = \"\")\n",
        "print(\"\\n\")"
      ],
      "execution_count": 2,
      "outputs": [
        {
          "output_type": "stream",
          "text": [
            "Please enter word to reverse : ineuron\n",
            "norueni\n",
            "\n"
          ],
          "name": "stdout"
        }
      ]
    },
    {
      "cell_type": "code",
      "metadata": {
        "id": "pHJV-wkD1pfP"
      },
      "source": [
        ""
      ],
      "execution_count": 2,
      "outputs": []
    }
  ]
}