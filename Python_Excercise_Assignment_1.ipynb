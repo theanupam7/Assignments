{
  "nbformat": 4,
  "nbformat_minor": 0,
  "metadata": {
    "colab": {
      "name": "Python Excercise Assignment 1.ipynb",
      "provenance": []
    },
    "kernelspec": {
      "name": "python3",
      "display_name": "Python 3"
    }
  },
  "cells": [
    {
      "cell_type": "markdown",
      "metadata": {
        "id": "B8fSD01k1LQT"
      },
      "source": [
        "Example 1 : A program which will find all such numbers which are divisible by 7 but are not a\n",
        "multiple of 5, between 2000 and 3200 (both included). The numbers obtained are printed\n",
        "in a comma-separated sequence on a single line."
      ]
    },
    {
      "cell_type": "code",
      "metadata": {
        "id": "odwveeKxzjt6",
        "outputId": "a6893a8b-1c4b-4f0b-a356-0dbf4e7657e5",
        "colab": {
          "base_uri": "https://localhost:8080/",
          "height": 54
        }
      },
      "source": [
        "numbers = []\n",
        "for i in range(2000,3201):\n",
        "  if (i%7 == 0) and (i%5 != 0) :\n",
        "    numbers.append(str(i))\n",
        "print(','.join(numbers))"
      ],
      "execution_count": 1,
      "outputs": [
        {
          "output_type": "stream",
          "text": [
            "2002,2009,2016,2023,2037,2044,2051,2058,2072,2079,2086,2093,2107,2114,2121,2128,2142,2149,2156,2163,2177,2184,2191,2198,2212,2219,2226,2233,2247,2254,2261,2268,2282,2289,2296,2303,2317,2324,2331,2338,2352,2359,2366,2373,2387,2394,2401,2408,2422,2429,2436,2443,2457,2464,2471,2478,2492,2499,2506,2513,2527,2534,2541,2548,2562,2569,2576,2583,2597,2604,2611,2618,2632,2639,2646,2653,2667,2674,2681,2688,2702,2709,2716,2723,2737,2744,2751,2758,2772,2779,2786,2793,2807,2814,2821,2828,2842,2849,2856,2863,2877,2884,2891,2898,2912,2919,2926,2933,2947,2954,2961,2968,2982,2989,2996,3003,3017,3024,3031,3038,3052,3059,3066,3073,3087,3094,3101,3108,3122,3129,3136,3143,3157,3164,3171,3178,3192,3199\n"
          ],
          "name": "stdout"
        }
      ]
    },
    {
      "cell_type": "markdown",
      "metadata": {
        "id": "Vk5-7Jyz8Uhg"
      },
      "source": [
        "Example 2 : A Python program to accept the user's first and last name and then getting them\n",
        "printed in the the reverse order with a space between first name and last name."
      ]
    },
    {
      "cell_type": "code",
      "metadata": {
        "id": "eFMgmRMT2a-8",
        "outputId": "a03855c5-a446-461d-a65f-4e5d5a63ef46",
        "colab": {
          "base_uri": "https://localhost:8080/",
          "height": 68
        }
      },
      "source": [
        "first_name = input('Please Enter First Name :')\n",
        "last_name = input('Please Enter Last Name :')\n",
        "print(last_name+' '+first_name )"
      ],
      "execution_count": 3,
      "outputs": [
        {
          "output_type": "stream",
          "text": [
            "Please Enter First Name :Sachin\n",
            "Please Enter Last Name :Tendulkar\n",
            "Tendulkar Sachin\n"
          ],
          "name": "stdout"
        }
      ]
    },
    {
      "cell_type": "markdown",
      "metadata": {
        "id": "a0GFxxzo-Cdd"
      },
      "source": [
        "Example 3 : A Python program to find the volume of a sphere with diameter 12 cm.\n",
        "\n",
        "Formula: V=4/3 * π * r\n",
        "\n",
        "Here, radius will be diameter/2 = 6cm\n"
      ]
    },
    {
      "cell_type": "code",
      "metadata": {
        "id": "IHSideJm76D8",
        "outputId": "84643839-6306-42a7-8099-e01445e885be",
        "colab": {
          "base_uri": "https://localhost:8080/",
          "height": 34
        }
      },
      "source": [
        "radius = 6\n",
        "pi = 3.141592\n",
        "volume_of_sphere = (4.0 * pi * radius**3)/3.0\n",
        "print(volume_of_sphere)"
      ],
      "execution_count": 8,
      "outputs": [
        {
          "output_type": "stream",
          "text": [
            "904.778496\n"
          ],
          "name": "stdout"
        }
      ]
    },
    {
      "cell_type": "code",
      "metadata": {
        "id": "Az0FLkIO9wdz"
      },
      "source": [
        ""
      ],
      "execution_count": null,
      "outputs": []
    }
  ]
}